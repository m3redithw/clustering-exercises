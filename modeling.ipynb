{
 "cells": [
  {
   "cell_type": "markdown",
   "id": "d23a0e14",
   "metadata": {},
   "source": [
    "# Modeling Exercises"
   ]
  },
  {
   "cell_type": "markdown",
   "id": "ae636074",
   "metadata": {},
   "source": [
    "## 1. Clustering with the Iris Dataset\n",
    "\n",
    "Using this lesson as a guide, perform clustering on the iris dataset."
   ]
  },
  {
   "cell_type": "markdown",
   "id": "65c24d27",
   "metadata": {},
   "source": [
    "### a. Choose features other than the ones used in the lesson."
   ]
  },
  {
   "cell_type": "code",
   "execution_count": 1,
   "id": "0768ef2f",
   "metadata": {},
   "outputs": [],
   "source": [
    "from imports import *"
   ]
  },
  {
   "cell_type": "markdown",
   "id": "9bdd1589",
   "metadata": {},
   "source": [
    "**Getting Iris data**"
   ]
  },
  {
   "cell_type": "code",
   "execution_count": 2,
   "id": "8e4cd42d",
   "metadata": {},
   "outputs": [
    {
     "data": {
      "text/html": [
       "<div>\n",
       "<style scoped>\n",
       "    .dataframe tbody tr th:only-of-type {\n",
       "        vertical-align: middle;\n",
       "    }\n",
       "\n",
       "    .dataframe tbody tr th {\n",
       "        vertical-align: top;\n",
       "    }\n",
       "\n",
       "    .dataframe thead th {\n",
       "        text-align: right;\n",
       "    }\n",
       "</style>\n",
       "<table border=\"1\" class=\"dataframe\">\n",
       "  <thead>\n",
       "    <tr style=\"text-align: right;\">\n",
       "      <th></th>\n",
       "      <th>Sepal.Length</th>\n",
       "      <th>Sepal.Width</th>\n",
       "      <th>Petal.Length</th>\n",
       "      <th>Petal.Width</th>\n",
       "      <th>Species</th>\n",
       "    </tr>\n",
       "  </thead>\n",
       "  <tbody>\n",
       "    <tr>\n",
       "      <th>1</th>\n",
       "      <td>5.1</td>\n",
       "      <td>3.5</td>\n",
       "      <td>1.4</td>\n",
       "      <td>0.2</td>\n",
       "      <td>setosa</td>\n",
       "    </tr>\n",
       "    <tr>\n",
       "      <th>2</th>\n",
       "      <td>4.9</td>\n",
       "      <td>3.0</td>\n",
       "      <td>1.4</td>\n",
       "      <td>0.2</td>\n",
       "      <td>setosa</td>\n",
       "    </tr>\n",
       "    <tr>\n",
       "      <th>3</th>\n",
       "      <td>4.7</td>\n",
       "      <td>3.2</td>\n",
       "      <td>1.3</td>\n",
       "      <td>0.2</td>\n",
       "      <td>setosa</td>\n",
       "    </tr>\n",
       "    <tr>\n",
       "      <th>4</th>\n",
       "      <td>4.6</td>\n",
       "      <td>3.1</td>\n",
       "      <td>1.5</td>\n",
       "      <td>0.2</td>\n",
       "      <td>setosa</td>\n",
       "    </tr>\n",
       "    <tr>\n",
       "      <th>5</th>\n",
       "      <td>5.0</td>\n",
       "      <td>3.6</td>\n",
       "      <td>1.4</td>\n",
       "      <td>0.2</td>\n",
       "      <td>setosa</td>\n",
       "    </tr>\n",
       "  </tbody>\n",
       "</table>\n",
       "</div>"
      ],
      "text/plain": [
       "   Sepal.Length  Sepal.Width  Petal.Length  Petal.Width Species\n",
       "1           5.1          3.5           1.4          0.2  setosa\n",
       "2           4.9          3.0           1.4          0.2  setosa\n",
       "3           4.7          3.2           1.3          0.2  setosa\n",
       "4           4.6          3.1           1.5          0.2  setosa\n",
       "5           5.0          3.6           1.4          0.2  setosa"
      ]
     },
     "execution_count": 2,
     "metadata": {},
     "output_type": "execute_result"
    }
   ],
   "source": [
    "df = data('iris')\n",
    "df.head()"
   ]
  },
  {
   "cell_type": "markdown",
   "id": "04c7789c",
   "metadata": {},
   "source": [
    "**Prepare Isis data**"
   ]
  },
  {
   "cell_type": "code",
   "execution_count": 3,
   "id": "7502171c",
   "metadata": {},
   "outputs": [
    {
     "data": {
      "text/html": [
       "<div>\n",
       "<style scoped>\n",
       "    .dataframe tbody tr th:only-of-type {\n",
       "        vertical-align: middle;\n",
       "    }\n",
       "\n",
       "    .dataframe tbody tr th {\n",
       "        vertical-align: top;\n",
       "    }\n",
       "\n",
       "    .dataframe thead th {\n",
       "        text-align: right;\n",
       "    }\n",
       "</style>\n",
       "<table border=\"1\" class=\"dataframe\">\n",
       "  <thead>\n",
       "    <tr style=\"text-align: right;\">\n",
       "      <th></th>\n",
       "      <th>sepal_length</th>\n",
       "      <th>sepal_width</th>\n",
       "      <th>petal_length</th>\n",
       "      <th>petal_width</th>\n",
       "      <th>species</th>\n",
       "    </tr>\n",
       "  </thead>\n",
       "  <tbody>\n",
       "    <tr>\n",
       "      <th>1</th>\n",
       "      <td>5.1</td>\n",
       "      <td>3.5</td>\n",
       "      <td>1.4</td>\n",
       "      <td>0.2</td>\n",
       "      <td>setosa</td>\n",
       "    </tr>\n",
       "    <tr>\n",
       "      <th>2</th>\n",
       "      <td>4.9</td>\n",
       "      <td>3.0</td>\n",
       "      <td>1.4</td>\n",
       "      <td>0.2</td>\n",
       "      <td>setosa</td>\n",
       "    </tr>\n",
       "    <tr>\n",
       "      <th>3</th>\n",
       "      <td>4.7</td>\n",
       "      <td>3.2</td>\n",
       "      <td>1.3</td>\n",
       "      <td>0.2</td>\n",
       "      <td>setosa</td>\n",
       "    </tr>\n",
       "    <tr>\n",
       "      <th>4</th>\n",
       "      <td>4.6</td>\n",
       "      <td>3.1</td>\n",
       "      <td>1.5</td>\n",
       "      <td>0.2</td>\n",
       "      <td>setosa</td>\n",
       "    </tr>\n",
       "    <tr>\n",
       "      <th>5</th>\n",
       "      <td>5.0</td>\n",
       "      <td>3.6</td>\n",
       "      <td>1.4</td>\n",
       "      <td>0.2</td>\n",
       "      <td>setosa</td>\n",
       "    </tr>\n",
       "  </tbody>\n",
       "</table>\n",
       "</div>"
      ],
      "text/plain": [
       "   sepal_length  sepal_width  petal_length  petal_width species\n",
       "1           5.1          3.5           1.4          0.2  setosa\n",
       "2           4.9          3.0           1.4          0.2  setosa\n",
       "3           4.7          3.2           1.3          0.2  setosa\n",
       "4           4.6          3.1           1.5          0.2  setosa\n",
       "5           5.0          3.6           1.4          0.2  setosa"
      ]
     },
     "execution_count": 3,
     "metadata": {},
     "output_type": "execute_result"
    }
   ],
   "source": [
    "new_col_names = []\n",
    "\n",
    "for col in df.columns:\n",
    "    new_col_names.append(col.lower().replace('.', '_'))\n",
    "    \n",
    "df.columns = new_col_names\n",
    "\n",
    "df.head()"
   ]
  },
  {
   "cell_type": "markdown",
   "id": "81820dc3",
   "metadata": {},
   "source": [
    "**Selecting features**"
   ]
  },
  {
   "cell_type": "code",
   "execution_count": 4,
   "id": "47e5aa0f",
   "metadata": {},
   "outputs": [
    {
     "data": {
      "text/html": [
       "<div>\n",
       "<style scoped>\n",
       "    .dataframe tbody tr th:only-of-type {\n",
       "        vertical-align: middle;\n",
       "    }\n",
       "\n",
       "    .dataframe tbody tr th {\n",
       "        vertical-align: top;\n",
       "    }\n",
       "\n",
       "    .dataframe thead th {\n",
       "        text-align: right;\n",
       "    }\n",
       "</style>\n",
       "<table border=\"1\" class=\"dataframe\">\n",
       "  <thead>\n",
       "    <tr style=\"text-align: right;\">\n",
       "      <th></th>\n",
       "      <th>sepal_length</th>\n",
       "      <th>sepal_width</th>\n",
       "    </tr>\n",
       "  </thead>\n",
       "  <tbody>\n",
       "    <tr>\n",
       "      <th>1</th>\n",
       "      <td>5.1</td>\n",
       "      <td>3.5</td>\n",
       "    </tr>\n",
       "    <tr>\n",
       "      <th>2</th>\n",
       "      <td>4.9</td>\n",
       "      <td>3.0</td>\n",
       "    </tr>\n",
       "    <tr>\n",
       "      <th>3</th>\n",
       "      <td>4.7</td>\n",
       "      <td>3.2</td>\n",
       "    </tr>\n",
       "    <tr>\n",
       "      <th>4</th>\n",
       "      <td>4.6</td>\n",
       "      <td>3.1</td>\n",
       "    </tr>\n",
       "    <tr>\n",
       "      <th>5</th>\n",
       "      <td>5.0</td>\n",
       "      <td>3.6</td>\n",
       "    </tr>\n",
       "  </tbody>\n",
       "</table>\n",
       "</div>"
      ],
      "text/plain": [
       "   sepal_length  sepal_width\n",
       "1           5.1          3.5\n",
       "2           4.9          3.0\n",
       "3           4.7          3.2\n",
       "4           4.6          3.1\n",
       "5           5.0          3.6"
      ]
     },
     "execution_count": 4,
     "metadata": {},
     "output_type": "execute_result"
    }
   ],
   "source": [
    "X = df[['sepal_length', 'sepal_width']]\n",
    "X.head()"
   ]
  },
  {
   "cell_type": "markdown",
   "id": "2e096817",
   "metadata": {},
   "source": [
    "### b. Visualize the results of your clustering."
   ]
  },
  {
   "cell_type": "markdown",
   "id": "c0a1a601",
   "metadata": {},
   "source": [
    "**Create clusters and fit cluster model**"
   ]
  },
  {
   "cell_type": "code",
   "execution_count": 5,
   "id": "7f76ff90",
   "metadata": {},
   "outputs": [
    {
     "data": {
      "text/plain": [
       "array([0, 0, 0, 0, 0, 0, 0, 0, 0, 0, 0, 0, 0, 0, 0, 0, 0, 0, 0, 0, 0, 0,\n",
       "       0, 0, 0, 0, 0, 0, 0, 0, 0, 0, 0, 0, 0, 0, 0, 0, 0, 0, 0, 0, 0, 0,\n",
       "       0, 0, 0, 0, 0, 0, 2, 2, 2, 1, 2, 1, 2, 1, 2, 1, 1, 1, 1, 1, 1, 2,\n",
       "       1, 1, 1, 1, 1, 1, 1, 1, 2, 2, 2, 2, 1, 1, 1, 1, 1, 1, 1, 1, 2, 1,\n",
       "       1, 1, 1, 1, 1, 1, 1, 1, 1, 1, 1, 1, 2, 1, 2, 2, 2, 2, 1, 2, 2, 2,\n",
       "       2, 2, 2, 1, 1, 2, 2, 2, 2, 1, 2, 1, 2, 1, 2, 2, 1, 1, 2, 2, 2, 2,\n",
       "       2, 1, 1, 2, 2, 2, 1, 2, 2, 2, 1, 2, 2, 2, 1, 2, 2, 1], dtype=int32)"
      ]
     },
     "execution_count": 5,
     "metadata": {},
     "output_type": "execute_result"
    }
   ],
   "source": [
    "kmeans = KMeans(n_clusters=3)\n",
    "kmeans.fit(X)\n",
    "\n",
    "clusters = kmeans.predict(X)\n",
    "clusters"
   ]
  },
  {
   "cell_type": "markdown",
   "id": "d5aea96a",
   "metadata": {},
   "source": [
    "**Add the cluster1 to original dataframe**"
   ]
  },
  {
   "cell_type": "code",
   "execution_count": 6,
   "id": "63e468bf",
   "metadata": {},
   "outputs": [
    {
     "data": {
      "text/html": [
       "<div>\n",
       "<style scoped>\n",
       "    .dataframe tbody tr th:only-of-type {\n",
       "        vertical-align: middle;\n",
       "    }\n",
       "\n",
       "    .dataframe tbody tr th {\n",
       "        vertical-align: top;\n",
       "    }\n",
       "\n",
       "    .dataframe thead th {\n",
       "        text-align: right;\n",
       "    }\n",
       "</style>\n",
       "<table border=\"1\" class=\"dataframe\">\n",
       "  <thead>\n",
       "    <tr style=\"text-align: right;\">\n",
       "      <th></th>\n",
       "      <th>sepal_length</th>\n",
       "      <th>sepal_width</th>\n",
       "      <th>petal_length</th>\n",
       "      <th>petal_width</th>\n",
       "      <th>species</th>\n",
       "      <th>cluster1</th>\n",
       "    </tr>\n",
       "  </thead>\n",
       "  <tbody>\n",
       "    <tr>\n",
       "      <th>1</th>\n",
       "      <td>5.1</td>\n",
       "      <td>3.5</td>\n",
       "      <td>1.4</td>\n",
       "      <td>0.2</td>\n",
       "      <td>setosa</td>\n",
       "      <td>0</td>\n",
       "    </tr>\n",
       "    <tr>\n",
       "      <th>2</th>\n",
       "      <td>4.9</td>\n",
       "      <td>3.0</td>\n",
       "      <td>1.4</td>\n",
       "      <td>0.2</td>\n",
       "      <td>setosa</td>\n",
       "      <td>0</td>\n",
       "    </tr>\n",
       "    <tr>\n",
       "      <th>3</th>\n",
       "      <td>4.7</td>\n",
       "      <td>3.2</td>\n",
       "      <td>1.3</td>\n",
       "      <td>0.2</td>\n",
       "      <td>setosa</td>\n",
       "      <td>0</td>\n",
       "    </tr>\n",
       "    <tr>\n",
       "      <th>4</th>\n",
       "      <td>4.6</td>\n",
       "      <td>3.1</td>\n",
       "      <td>1.5</td>\n",
       "      <td>0.2</td>\n",
       "      <td>setosa</td>\n",
       "      <td>0</td>\n",
       "    </tr>\n",
       "    <tr>\n",
       "      <th>5</th>\n",
       "      <td>5.0</td>\n",
       "      <td>3.6</td>\n",
       "      <td>1.4</td>\n",
       "      <td>0.2</td>\n",
       "      <td>setosa</td>\n",
       "      <td>0</td>\n",
       "    </tr>\n",
       "  </tbody>\n",
       "</table>\n",
       "</div>"
      ],
      "text/plain": [
       "   sepal_length  sepal_width  petal_length  petal_width species  cluster1\n",
       "1           5.1          3.5           1.4          0.2  setosa         0\n",
       "2           4.9          3.0           1.4          0.2  setosa         0\n",
       "3           4.7          3.2           1.3          0.2  setosa         0\n",
       "4           4.6          3.1           1.5          0.2  setosa         0\n",
       "5           5.0          3.6           1.4          0.2  setosa         0"
      ]
     },
     "execution_count": 6,
     "metadata": {},
     "output_type": "execute_result"
    }
   ],
   "source": [
    "df['cluster1'] = clusters\n",
    "df.head()"
   ]
  },
  {
   "cell_type": "markdown",
   "id": "be6123c1",
   "metadata": {},
   "source": [
    "**Visualize clusters**"
   ]
  },
  {
   "cell_type": "code",
   "execution_count": 7,
   "id": "03860264",
   "metadata": {},
   "outputs": [
    {
     "data": {
      "text/html": [
       "<div>\n",
       "<style scoped>\n",
       "    .dataframe tbody tr th:only-of-type {\n",
       "        vertical-align: middle;\n",
       "    }\n",
       "\n",
       "    .dataframe tbody tr th {\n",
       "        vertical-align: top;\n",
       "    }\n",
       "\n",
       "    .dataframe thead th {\n",
       "        text-align: right;\n",
       "    }\n",
       "</style>\n",
       "<table border=\"1\" class=\"dataframe\">\n",
       "  <thead>\n",
       "    <tr style=\"text-align: right;\">\n",
       "      <th></th>\n",
       "      <th>sepal_length</th>\n",
       "      <th>sepal_width</th>\n",
       "      <th>petal_length</th>\n",
       "      <th>petal_width</th>\n",
       "      <th>cluster1</th>\n",
       "    </tr>\n",
       "    <tr>\n",
       "      <th>species</th>\n",
       "      <th></th>\n",
       "      <th></th>\n",
       "      <th></th>\n",
       "      <th></th>\n",
       "      <th></th>\n",
       "    </tr>\n",
       "  </thead>\n",
       "  <tbody>\n",
       "    <tr>\n",
       "      <th>setosa</th>\n",
       "      <td>5.006</td>\n",
       "      <td>3.428</td>\n",
       "      <td>1.462</td>\n",
       "      <td>0.246</td>\n",
       "      <td>0.00</td>\n",
       "    </tr>\n",
       "    <tr>\n",
       "      <th>versicolor</th>\n",
       "      <td>5.936</td>\n",
       "      <td>2.770</td>\n",
       "      <td>4.260</td>\n",
       "      <td>1.326</td>\n",
       "      <td>1.24</td>\n",
       "    </tr>\n",
       "    <tr>\n",
       "      <th>virginica</th>\n",
       "      <td>6.588</td>\n",
       "      <td>2.974</td>\n",
       "      <td>5.552</td>\n",
       "      <td>2.026</td>\n",
       "      <td>1.70</td>\n",
       "    </tr>\n",
       "  </tbody>\n",
       "</table>\n",
       "</div>"
      ],
      "text/plain": [
       "            sepal_length  sepal_width  petal_length  petal_width  cluster1\n",
       "species                                                                   \n",
       "setosa             5.006        3.428         1.462        0.246      0.00\n",
       "versicolor         5.936        2.770         4.260        1.326      1.24\n",
       "virginica          6.588        2.974         5.552        2.026      1.70"
      ]
     },
     "execution_count": 7,
     "metadata": {},
     "output_type": "execute_result"
    }
   ],
   "source": [
    "df.groupby('species').mean()"
   ]
  },
  {
   "cell_type": "code",
   "execution_count": 29,
   "id": "1cb48481",
   "metadata": {},
   "outputs": [
    {
     "data": {
      "text/plain": [
       "[Text(0.5, 1.0, 'K-Means Clusters')]"
      ]
     },
     "execution_count": 29,
     "metadata": {},
     "output_type": "execute_result"
    },
    {
     "data": {
      "image/png": "[encoded data removed]",
      "text/plain": [
       "<Figure size 1152x648 with 2 Axes>"
      ]
     },
     "metadata": {
      "needs_background": "light"
     },
     "output_type": "display_data"
    }
   ],
   "source": [
    "fig, axs = plt.subplots(1, 2, figsize=(16, 9), sharex=True, sharey=True)\n",
    "# actual species\n",
    "for species, subset in df.groupby('species'):\n",
    "    axs[0].scatter(subset.petal_length, subset.petal_width, label=species)\n",
    "    \n",
    "axs[0].legend()\n",
    "axs[0].set(title='Actual Species')\n",
    "\n",
    "# k-means clusters\n",
    "for cluster_n in df.cluster1.sort_values().unique():\n",
    "    axs[1].scatter(df[df.cluster1 == cluster_n].sepal_length, df[df.cluster1 == cluster_n].sepal_width, label=f'cluster_{cluster_n}')\n",
    "\n",
    "axs[1].legend()\n",
    "axs[1].set(title=\"K-Means Clusters\")"
   ]
  },
  {
   "cell_type": "markdown",
   "id": "46a30653",
   "metadata": {},
   "source": [
    "### c. Use the elbow method to visually select a good value for k."
   ]
  },
  {
   "cell_type": "markdown",
   "id": "e2a44aaf",
   "metadata": {},
   "source": [
    "**Determine cluster number k**"
   ]
  },
  {
   "cell_type": "code",
   "execution_count": 9,
   "id": "c7449a27",
   "metadata": {},
   "outputs": [
    {
     "data": {
      "image/png": "[encoded data removed]",
      "text/plain": [
       "<Figure size 648x432 with 1 Axes>"
      ]
     },
     "metadata": {},
     "output_type": "display_data"
    }
   ],
   "source": [
    "with plt.style.context('seaborn-whitegrid'):\n",
    "    plt.figure(figsize=(9, 6))\n",
    "    pd.Series({k: KMeans(k).fit(X).inertia_ for k in range(2, 12)}).plot(marker='x')\n",
    "    plt.xticks(range(2, 12))\n",
    "    plt.xlabel('k')\n",
    "    plt.ylabel('inertia')\n",
    "    plt.title('Change in inertia as k increases')"
   ]
  },
  {
   "cell_type": "markdown",
   "id": "f9386371",
   "metadata": {},
   "source": [
    "This graph seems to show a drop off in inertia around **k==4**\n",
    "\n",
    "**k==3** is the ideal cluster number"
   ]
  },
  {
   "cell_type": "markdown",
   "id": "c1ca2098",
   "metadata": {},
   "source": [
    "### d. Repeat the clustering, this time with 3 different features.\n"
   ]
  },
  {
   "cell_type": "markdown",
   "id": "beaa450c",
   "metadata": {},
   "source": [
    "**Selecting features**"
   ]
  },
  {
   "cell_type": "code",
   "execution_count": 10,
   "id": "41616923",
   "metadata": {},
   "outputs": [
    {
     "data": {
      "text/html": [
       "<div>\n",
       "<style scoped>\n",
       "    .dataframe tbody tr th:only-of-type {\n",
       "        vertical-align: middle;\n",
       "    }\n",
       "\n",
       "    .dataframe tbody tr th {\n",
       "        vertical-align: top;\n",
       "    }\n",
       "\n",
       "    .dataframe thead th {\n",
       "        text-align: right;\n",
       "    }\n",
       "</style>\n",
       "<table border=\"1\" class=\"dataframe\">\n",
       "  <thead>\n",
       "    <tr style=\"text-align: right;\">\n",
       "      <th></th>\n",
       "      <th>sepal_length</th>\n",
       "      <th>sepal_width</th>\n",
       "      <th>petal_length</th>\n",
       "    </tr>\n",
       "  </thead>\n",
       "  <tbody>\n",
       "    <tr>\n",
       "      <th>1</th>\n",
       "      <td>5.1</td>\n",
       "      <td>3.5</td>\n",
       "      <td>1.4</td>\n",
       "    </tr>\n",
       "    <tr>\n",
       "      <th>2</th>\n",
       "      <td>4.9</td>\n",
       "      <td>3.0</td>\n",
       "      <td>1.4</td>\n",
       "    </tr>\n",
       "    <tr>\n",
       "      <th>3</th>\n",
       "      <td>4.7</td>\n",
       "      <td>3.2</td>\n",
       "      <td>1.3</td>\n",
       "    </tr>\n",
       "    <tr>\n",
       "      <th>4</th>\n",
       "      <td>4.6</td>\n",
       "      <td>3.1</td>\n",
       "      <td>1.5</td>\n",
       "    </tr>\n",
       "    <tr>\n",
       "      <th>5</th>\n",
       "      <td>5.0</td>\n",
       "      <td>3.6</td>\n",
       "      <td>1.4</td>\n",
       "    </tr>\n",
       "  </tbody>\n",
       "</table>\n",
       "</div>"
      ],
      "text/plain": [
       "   sepal_length  sepal_width  petal_length\n",
       "1           5.1          3.5           1.4\n",
       "2           4.9          3.0           1.4\n",
       "3           4.7          3.2           1.3\n",
       "4           4.6          3.1           1.5\n",
       "5           5.0          3.6           1.4"
      ]
     },
     "execution_count": 10,
     "metadata": {},
     "output_type": "execute_result"
    }
   ],
   "source": [
    "X = df[['sepal_length', 'sepal_width', 'petal_length']]\n",
    "X.head()"
   ]
  },
  {
   "cell_type": "markdown",
   "id": "f474ff7d",
   "metadata": {},
   "source": [
    "**Create cluster and fit cluster model**"
   ]
  },
  {
   "cell_type": "code",
   "execution_count": 11,
   "id": "412df60f",
   "metadata": {},
   "outputs": [
    {
     "data": {
      "text/plain": [
       "array([1, 1, 1, 1, 1, 1, 1, 1, 1, 1, 1, 1, 1, 1, 1, 1, 1, 1, 1, 1, 1, 1,\n",
       "       1, 1, 1, 1, 1, 1, 1, 1, 1, 1, 1, 1, 1, 1, 1, 1, 1, 1, 1, 1, 1, 1,\n",
       "       1, 1, 1, 1, 1, 1, 0, 2, 0, 2, 2, 2, 2, 2, 2, 2, 2, 2, 2, 2, 2, 2,\n",
       "       2, 2, 2, 2, 2, 2, 2, 2, 2, 2, 0, 0, 2, 2, 2, 2, 2, 2, 2, 2, 0, 2,\n",
       "       2, 2, 2, 2, 2, 2, 2, 2, 2, 2, 2, 2, 0, 2, 0, 0, 0, 0, 2, 0, 0, 0,\n",
       "       0, 0, 0, 2, 2, 0, 0, 0, 0, 2, 0, 2, 0, 2, 0, 0, 2, 2, 0, 0, 0, 0,\n",
       "       0, 0, 0, 0, 0, 0, 2, 0, 0, 0, 2, 0, 0, 0, 2, 0, 0, 2], dtype=int32)"
      ]
     },
     "execution_count": 11,
     "metadata": {},
     "output_type": "execute_result"
    }
   ],
   "source": [
    "kmeans = KMeans(n_clusters=3)\n",
    "kmeans.fit(X)\n",
    "\n",
    "clusters = kmeans.predict(X)\n",
    "clusters"
   ]
  },
  {
   "cell_type": "markdown",
   "id": "f405cea8",
   "metadata": {},
   "source": [
    "**Add cluster2 to original dataframe**"
   ]
  },
  {
   "cell_type": "code",
   "execution_count": 12,
   "id": "29af2df0",
   "metadata": {},
   "outputs": [
    {
     "data": {
      "text/html": [
       "<div>\n",
       "<style scoped>\n",
       "    .dataframe tbody tr th:only-of-type {\n",
       "        vertical-align: middle;\n",
       "    }\n",
       "\n",
       "    .dataframe tbody tr th {\n",
       "        vertical-align: top;\n",
       "    }\n",
       "\n",
       "    .dataframe thead th {\n",
       "        text-align: right;\n",
       "    }\n",
       "</style>\n",
       "<table border=\"1\" class=\"dataframe\">\n",
       "  <thead>\n",
       "    <tr style=\"text-align: right;\">\n",
       "      <th></th>\n",
       "      <th>sepal_length</th>\n",
       "      <th>sepal_width</th>\n",
       "      <th>petal_length</th>\n",
       "      <th>petal_width</th>\n",
       "      <th>species</th>\n",
       "      <th>cluster1</th>\n",
       "      <th>cluster2</th>\n",
       "    </tr>\n",
       "  </thead>\n",
       "  <tbody>\n",
       "    <tr>\n",
       "      <th>1</th>\n",
       "      <td>5.1</td>\n",
       "      <td>3.5</td>\n",
       "      <td>1.4</td>\n",
       "      <td>0.2</td>\n",
       "      <td>setosa</td>\n",
       "      <td>0</td>\n",
       "      <td>1</td>\n",
       "    </tr>\n",
       "    <tr>\n",
       "      <th>2</th>\n",
       "      <td>4.9</td>\n",
       "      <td>3.0</td>\n",
       "      <td>1.4</td>\n",
       "      <td>0.2</td>\n",
       "      <td>setosa</td>\n",
       "      <td>0</td>\n",
       "      <td>1</td>\n",
       "    </tr>\n",
       "    <tr>\n",
       "      <th>3</th>\n",
       "      <td>4.7</td>\n",
       "      <td>3.2</td>\n",
       "      <td>1.3</td>\n",
       "      <td>0.2</td>\n",
       "      <td>setosa</td>\n",
       "      <td>0</td>\n",
       "      <td>1</td>\n",
       "    </tr>\n",
       "    <tr>\n",
       "      <th>4</th>\n",
       "      <td>4.6</td>\n",
       "      <td>3.1</td>\n",
       "      <td>1.5</td>\n",
       "      <td>0.2</td>\n",
       "      <td>setosa</td>\n",
       "      <td>0</td>\n",
       "      <td>1</td>\n",
       "    </tr>\n",
       "    <tr>\n",
       "      <th>5</th>\n",
       "      <td>5.0</td>\n",
       "      <td>3.6</td>\n",
       "      <td>1.4</td>\n",
       "      <td>0.2</td>\n",
       "      <td>setosa</td>\n",
       "      <td>0</td>\n",
       "      <td>1</td>\n",
       "    </tr>\n",
       "  </tbody>\n",
       "</table>\n",
       "</div>"
      ],
      "text/plain": [
       "   sepal_length  sepal_width  petal_length  petal_width species  cluster1  \\\n",
       "1           5.1          3.5           1.4          0.2  setosa         0   \n",
       "2           4.9          3.0           1.4          0.2  setosa         0   \n",
       "3           4.7          3.2           1.3          0.2  setosa         0   \n",
       "4           4.6          3.1           1.5          0.2  setosa         0   \n",
       "5           5.0          3.6           1.4          0.2  setosa         0   \n",
       "\n",
       "   cluster2  \n",
       "1         1  \n",
       "2         1  \n",
       "3         1  \n",
       "4         1  \n",
       "5         1  "
      ]
     },
     "execution_count": 12,
     "metadata": {},
     "output_type": "execute_result"
    }
   ],
   "source": [
    "df['cluster2'] = clusters\n",
    "df.head()"
   ]
  },
  {
   "cell_type": "markdown",
   "id": "920101ec",
   "metadata": {},
   "source": [
    "**Visualize clusters**"
   ]
  },
  {
   "cell_type": "code",
   "execution_count": 13,
   "id": "1df41b75",
   "metadata": {},
   "outputs": [
    {
     "data": {
      "text/plain": [
       "[Text(0.5, 1.0, 'K-Means Clusters')]"
      ]
     },
     "execution_count": 13,
     "metadata": {},
     "output_type": "execute_result"
    },
    {
     "data": {
      "image/png": "[encoded data removed]",
      "text/plain": [
       "<Figure size 1152x648 with 2 Axes>"
      ]
     },
     "metadata": {
      "needs_background": "light"
     },
     "output_type": "display_data"
    }
   ],
   "source": [
    "fig, axs = plt.subplots(1, 2, figsize=(16, 9), sharex=True, sharey=True)\n",
    "# actual species\n",
    "for species, subset in df.groupby('species'):\n",
    "    axs[0].scatter(subset.petal_length, subset.petal_width, label=species)\n",
    "    \n",
    "axs[0].legend()\n",
    "axs[0].set(title='Actual Species')\n",
    "\n",
    "# k-means clusters\n",
    "for cluster_n in df.cluster2.sort_values().unique():\n",
    "    axs[1].scatter(df[df.cluster2 == cluster_n].petal_length, df[df.cluster2 == cluster_n].petal_width, label=f'cluster_{cluster_n}')\n",
    "\n",
    "axs[1].legend()\n",
    "axs[1].set(title=\"K-Means Clusters\")"
   ]
  },
  {
   "cell_type": "markdown",
   "id": "e54085d9",
   "metadata": {},
   "source": [
    "**Determine cluster number k**"
   ]
  },
  {
   "cell_type": "code",
   "execution_count": 14,
   "id": "7d5cd2f9",
   "metadata": {},
   "outputs": [
    {
     "data": {
      "image/png": "[encoded data removed]",
      "text/plain": [
       "<Figure size 648x432 with 1 Axes>"
      ]
     },
     "metadata": {},
     "output_type": "display_data"
    }
   ],
   "source": [
    "with plt.style.context('seaborn-whitegrid'):\n",
    "    plt.figure(figsize=(9, 6))\n",
    "    pd.Series({k: KMeans(k).fit(X).inertia_ for k in range(2, 12)}).plot(marker='x')\n",
    "    plt.xticks(range(2, 12))\n",
    "    plt.xlabel('k')\n",
    "    plt.ylabel('inertia')\n",
    "    plt.title('Change in inertia as k increases')"
   ]
  },
  {
   "cell_type": "markdown",
   "id": "1ca32a4d",
   "metadata": {},
   "source": [
    "This graph seems to show a drop off in inertia around **k==4**\n",
    "\n",
    "**k==3** is the ideal cluster number"
   ]
  },
  {
   "cell_type": "markdown",
   "id": "7bd75eb7",
   "metadata": {},
   "source": [
    "## 2. Use the techniques discussed in this lesson, as well as the insights gained from the exploration exercise to perform clustering on the mall customers dataset. Be sure to visualize your results!"
   ]
  },
  {
   "cell_type": "markdown",
   "id": "a91e2369",
   "metadata": {},
   "source": [
    "**Acquire mall data**"
   ]
  },
  {
   "cell_type": "code",
   "execution_count": 15,
   "id": "346060ee",
   "metadata": {},
   "outputs": [],
   "source": [
    "from mall_wrangle import wrangle_mall_df"
   ]
  },
  {
   "cell_type": "code",
   "execution_count": 16,
   "id": "957dbdc8",
   "metadata": {},
   "outputs": [
    {
     "data": {
      "text/html": [
       "<div>\n",
       "<style scoped>\n",
       "    .dataframe tbody tr th:only-of-type {\n",
       "        vertical-align: middle;\n",
       "    }\n",
       "\n",
       "    .dataframe tbody tr th {\n",
       "        vertical-align: top;\n",
       "    }\n",
       "\n",
       "    .dataframe thead th {\n",
       "        text-align: right;\n",
       "    }\n",
       "</style>\n",
       "<table border=\"1\" class=\"dataframe\">\n",
       "  <thead>\n",
       "    <tr style=\"text-align: right;\">\n",
       "      <th></th>\n",
       "      <th>age</th>\n",
       "      <th>annual_income</th>\n",
       "      <th>spending_score</th>\n",
       "      <th>is_male</th>\n",
       "    </tr>\n",
       "    <tr>\n",
       "      <th>customer_id</th>\n",
       "      <th></th>\n",
       "      <th></th>\n",
       "      <th></th>\n",
       "      <th></th>\n",
       "    </tr>\n",
       "  </thead>\n",
       "  <tbody>\n",
       "    <tr>\n",
       "      <th>182</th>\n",
       "      <td>32</td>\n",
       "      <td>97</td>\n",
       "      <td>86</td>\n",
       "      <td>0</td>\n",
       "    </tr>\n",
       "    <tr>\n",
       "      <th>49</th>\n",
       "      <td>29</td>\n",
       "      <td>40</td>\n",
       "      <td>42</td>\n",
       "      <td>0</td>\n",
       "    </tr>\n",
       "    <tr>\n",
       "      <th>35</th>\n",
       "      <td>49</td>\n",
       "      <td>33</td>\n",
       "      <td>14</td>\n",
       "      <td>0</td>\n",
       "    </tr>\n",
       "    <tr>\n",
       "      <th>186</th>\n",
       "      <td>30</td>\n",
       "      <td>99</td>\n",
       "      <td>97</td>\n",
       "      <td>1</td>\n",
       "    </tr>\n",
       "    <tr>\n",
       "      <th>114</th>\n",
       "      <td>19</td>\n",
       "      <td>64</td>\n",
       "      <td>46</td>\n",
       "      <td>1</td>\n",
       "    </tr>\n",
       "  </tbody>\n",
       "</table>\n",
       "</div>"
      ],
      "text/plain": [
       "             age  annual_income  spending_score  is_male\n",
       "customer_id                                             \n",
       "182           32             97              86        0\n",
       "49            29             40              42        0\n",
       "35            49             33              14        0\n",
       "186           30             99              97        1\n",
       "114           19             64              46        1"
      ]
     },
     "execution_count": 16,
     "metadata": {},
     "output_type": "execute_result"
    }
   ],
   "source": [
    "scaler, train, validate, test = wrangle_mall_df()\n",
    "train.head()"
   ]
  },
  {
   "cell_type": "markdown",
   "id": "4d15132f",
   "metadata": {},
   "source": [
    "**Let's take a quick look at our data**"
   ]
  },
  {
   "cell_type": "code",
   "execution_count": 17,
   "id": "605338e0",
   "metadata": {
    "scrolled": false
   },
   "outputs": [
    {
     "data": {
      "text/plain": [
       "<seaborn.axisgrid.PairGrid at 0x7fb6e1a3bc10>"
      ]
     },
     "execution_count": 17,
     "metadata": {},
     "output_type": "execute_result"
    },
    {
     "data": {
      "image/png": "[encoded data removed]",
      "text/plain": [
       "<Figure size 720x720 with 20 Axes>"
      ]
     },
     "metadata": {
      "needs_background": "light"
     },
     "output_type": "display_data"
    }
   ],
   "source": [
    "sns.pairplot(train)"
   ]
  },
  {
   "cell_type": "markdown",
   "id": "30a30fd9",
   "metadata": {},
   "source": [
    "**Select features**"
   ]
  },
  {
   "cell_type": "code",
   "execution_count": 18,
   "id": "516fbca3",
   "metadata": {},
   "outputs": [
    {
     "data": {
      "text/html": [
       "<div>\n",
       "<style scoped>\n",
       "    .dataframe tbody tr th:only-of-type {\n",
       "        vertical-align: middle;\n",
       "    }\n",
       "\n",
       "    .dataframe tbody tr th {\n",
       "        vertical-align: top;\n",
       "    }\n",
       "\n",
       "    .dataframe thead th {\n",
       "        text-align: right;\n",
       "    }\n",
       "</style>\n",
       "<table border=\"1\" class=\"dataframe\">\n",
       "  <thead>\n",
       "    <tr style=\"text-align: right;\">\n",
       "      <th></th>\n",
       "      <th>age</th>\n",
       "      <th>annual_income</th>\n",
       "    </tr>\n",
       "    <tr>\n",
       "      <th>customer_id</th>\n",
       "      <th></th>\n",
       "      <th></th>\n",
       "    </tr>\n",
       "  </thead>\n",
       "  <tbody>\n",
       "    <tr>\n",
       "      <th>182</th>\n",
       "      <td>32</td>\n",
       "      <td>97</td>\n",
       "    </tr>\n",
       "    <tr>\n",
       "      <th>49</th>\n",
       "      <td>29</td>\n",
       "      <td>40</td>\n",
       "    </tr>\n",
       "    <tr>\n",
       "      <th>35</th>\n",
       "      <td>49</td>\n",
       "      <td>33</td>\n",
       "    </tr>\n",
       "    <tr>\n",
       "      <th>186</th>\n",
       "      <td>30</td>\n",
       "      <td>99</td>\n",
       "    </tr>\n",
       "    <tr>\n",
       "      <th>114</th>\n",
       "      <td>19</td>\n",
       "      <td>64</td>\n",
       "    </tr>\n",
       "  </tbody>\n",
       "</table>\n",
       "</div>"
      ],
      "text/plain": [
       "             age  annual_income\n",
       "customer_id                    \n",
       "182           32             97\n",
       "49            29             40\n",
       "35            49             33\n",
       "186           30             99\n",
       "114           19             64"
      ]
     },
     "execution_count": 18,
     "metadata": {},
     "output_type": "execute_result"
    }
   ],
   "source": [
    "X = train[['age', 'annual_income']]\n",
    "X.head()"
   ]
  },
  {
   "cell_type": "markdown",
   "id": "950f9b3e",
   "metadata": {},
   "source": [
    "**Create cluster model and fit model**"
   ]
  },
  {
   "cell_type": "code",
   "execution_count": 19,
   "id": "de9ad2bd",
   "metadata": {},
   "outputs": [
    {
     "data": {
      "text/plain": [
       "array([3, 1, 4, 3, 2, 4, 3, 3, 1, 1, 1, 0, 2, 1, 0, 1, 0, 2, 3, 1, 1, 4,\n",
       "       3, 4, 2, 4, 1, 2, 1, 4, 0, 1, 2, 0, 4, 2, 4, 3, 0, 1, 4, 0, 0, 4,\n",
       "       2, 4, 4, 3, 2, 1, 1, 3, 0, 2, 0, 3, 4, 1, 0, 2, 4, 0, 0, 1, 0, 4,\n",
       "       4, 0, 3, 4, 0, 3, 1, 4, 2, 0, 0, 0, 2, 4, 4, 2, 0, 1, 2, 1, 1, 2,\n",
       "       2, 1, 1, 1, 4, 0, 2, 1, 2, 0, 1, 4, 1, 4, 4, 0, 0, 4, 0, 3, 4, 2,\n",
       "       2, 0, 0, 4, 0, 0, 0, 2], dtype=int32)"
      ]
     },
     "execution_count": 19,
     "metadata": {},
     "output_type": "execute_result"
    }
   ],
   "source": [
    "kmeans = KMeans(n_clusters=5)\n",
    "kmeans.fit(X)\n",
    "\n",
    "clusters = kmeans.predict(X)\n",
    "clusters"
   ]
  },
  {
   "cell_type": "markdown",
   "id": "b1de6029",
   "metadata": {},
   "source": [
    "**Add cluster1 to original dataframe**"
   ]
  },
  {
   "cell_type": "code",
   "execution_count": 22,
   "id": "da837ca4",
   "metadata": {},
   "outputs": [
    {
     "data": {
      "text/html": [
       "<div>\n",
       "<style scoped>\n",
       "    .dataframe tbody tr th:only-of-type {\n",
       "        vertical-align: middle;\n",
       "    }\n",
       "\n",
       "    .dataframe tbody tr th {\n",
       "        vertical-align: top;\n",
       "    }\n",
       "\n",
       "    .dataframe thead th {\n",
       "        text-align: right;\n",
       "    }\n",
       "</style>\n",
       "<table border=\"1\" class=\"dataframe\">\n",
       "  <thead>\n",
       "    <tr style=\"text-align: right;\">\n",
       "      <th></th>\n",
       "      <th>age</th>\n",
       "      <th>annual_income</th>\n",
       "      <th>spending_score</th>\n",
       "      <th>is_male</th>\n",
       "      <th>cluster1</th>\n",
       "    </tr>\n",
       "    <tr>\n",
       "      <th>customer_id</th>\n",
       "      <th></th>\n",
       "      <th></th>\n",
       "      <th></th>\n",
       "      <th></th>\n",
       "      <th></th>\n",
       "    </tr>\n",
       "  </thead>\n",
       "  <tbody>\n",
       "    <tr>\n",
       "      <th>182</th>\n",
       "      <td>32</td>\n",
       "      <td>97</td>\n",
       "      <td>86</td>\n",
       "      <td>0</td>\n",
       "      <td>3</td>\n",
       "    </tr>\n",
       "    <tr>\n",
       "      <th>49</th>\n",
       "      <td>29</td>\n",
       "      <td>40</td>\n",
       "      <td>42</td>\n",
       "      <td>0</td>\n",
       "      <td>1</td>\n",
       "    </tr>\n",
       "    <tr>\n",
       "      <th>35</th>\n",
       "      <td>49</td>\n",
       "      <td>33</td>\n",
       "      <td>14</td>\n",
       "      <td>0</td>\n",
       "      <td>4</td>\n",
       "    </tr>\n",
       "    <tr>\n",
       "      <th>186</th>\n",
       "      <td>30</td>\n",
       "      <td>99</td>\n",
       "      <td>97</td>\n",
       "      <td>1</td>\n",
       "      <td>3</td>\n",
       "    </tr>\n",
       "    <tr>\n",
       "      <th>114</th>\n",
       "      <td>19</td>\n",
       "      <td>64</td>\n",
       "      <td>46</td>\n",
       "      <td>1</td>\n",
       "      <td>2</td>\n",
       "    </tr>\n",
       "  </tbody>\n",
       "</table>\n",
       "</div>"
      ],
      "text/plain": [
       "             age  annual_income  spending_score  is_male  cluster1\n",
       "customer_id                                                       \n",
       "182           32             97              86        0         3\n",
       "49            29             40              42        0         1\n",
       "35            49             33              14        0         4\n",
       "186           30             99              97        1         3\n",
       "114           19             64              46        1         2"
      ]
     },
     "execution_count": 22,
     "metadata": {},
     "output_type": "execute_result"
    }
   ],
   "source": [
    "train['cluster1'] = clusters\n",
    "train.head()"
   ]
  },
  {
   "cell_type": "markdown",
   "id": "bd353652",
   "metadata": {},
   "source": [
    "**Visualize clusters**"
   ]
  },
  {
   "cell_type": "code",
   "execution_count": 27,
   "id": "e76026e0",
   "metadata": {},
   "outputs": [
    {
     "data": {
      "image/png": "[encoded data removed]",
      "text/plain": [
       "<Figure size 360x360 with 1 Axes>"
      ]
     },
     "metadata": {
      "needs_background": "light"
     },
     "output_type": "display_data"
    }
   ],
   "source": [
    "plt.figure(figsize=(5, 5))\n",
    "\n",
    "for cluster_n in train.cluster1.sort_values().unique():\n",
    "    plt.scatter(train[train.cluster1 == cluster_n].age, train[train.cluster1 == cluster_n].annual_income, label=f'cluster_{cluster_n}')\n",
    "\n",
    "plt.legend()\n",
    "plt.title(\"K-Means Clusters\")\n",
    "plt.show()"
   ]
  },
  {
   "cell_type": "markdown",
   "id": "cc7725de",
   "metadata": {},
   "source": [
    "**Use the elbow method to determine if we have the appropriate number of clusters**"
   ]
  },
  {
   "cell_type": "code",
   "execution_count": 24,
   "id": "12a647c7",
   "metadata": {},
   "outputs": [
    {
     "data": {
      "image/png": "[encoded data removed]",
      "text/plain": [
       "<Figure size 648x432 with 1 Axes>"
      ]
     },
     "metadata": {},
     "output_type": "display_data"
    }
   ],
   "source": [
    "with plt.style.context('seaborn-whitegrid'):\n",
    "    plt.figure(figsize=(9, 6))\n",
    "    pd.Series({k: KMeans(k).fit(X).inertia_ for k in range(2, 12)}).plot(marker='x')\n",
    "    plt.xticks(range(2, 12))\n",
    "    plt.xlabel('k')\n",
    "    plt.ylabel('inertia')\n",
    "    plt.title('Change in inertia as k increases')"
   ]
  },
  {
   "cell_type": "markdown",
   "id": "2a83e4e9",
   "metadata": {},
   "source": [
    "This graph seems to show a drop off in inertia around **k==5**\n",
    "\n",
    "**k==4** is the ideal cluster number"
   ]
  },
  {
   "cell_type": "markdown",
   "id": "b11893ee",
   "metadata": {},
   "source": [
    "**Create model with k==4**"
   ]
  },
  {
   "cell_type": "code",
   "execution_count": 25,
   "id": "1d73dec3",
   "metadata": {},
   "outputs": [
    {
     "data": {
      "text/plain": [
       "array([3, 1, 1, 3, 0, 2, 3, 3, 1, 1, 1, 3, 0, 1, 3, 1, 0, 0, 3, 1, 1, 2,\n",
       "       3, 2, 0, 2, 1, 1, 1, 2, 0, 1, 0, 0, 2, 0, 2, 3, 0, 1, 2, 0, 3, 2,\n",
       "       0, 2, 2, 3, 0, 1, 1, 3, 3, 0, 0, 3, 2, 1, 0, 0, 2, 2, 0, 1, 0, 2,\n",
       "       2, 0, 3, 2, 0, 3, 1, 2, 0, 0, 0, 0, 0, 2, 2, 0, 0, 1, 0, 1, 1, 0,\n",
       "       0, 1, 1, 1, 2, 3, 0, 1, 1, 0, 1, 2, 1, 2, 2, 0, 0, 2, 0, 3, 2, 1,\n",
       "       0, 0, 0, 2, 0, 2, 0, 1], dtype=int32)"
      ]
     },
     "execution_count": 25,
     "metadata": {},
     "output_type": "execute_result"
    }
   ],
   "source": [
    "kmeans = KMeans(n_clusters=4)\n",
    "kmeans.fit(X)\n",
    "\n",
    "clusters = kmeans.predict(X)\n",
    "clusters"
   ]
  },
  {
   "cell_type": "markdown",
   "id": "7286a208",
   "metadata": {},
   "source": [
    "**Add cluster1 to original dataframe**"
   ]
  },
  {
   "cell_type": "code",
   "execution_count": 26,
   "id": "9b788032",
   "metadata": {},
   "outputs": [
    {
     "data": {
      "text/html": [
       "<div>\n",
       "<style scoped>\n",
       "    .dataframe tbody tr th:only-of-type {\n",
       "        vertical-align: middle;\n",
       "    }\n",
       "\n",
       "    .dataframe tbody tr th {\n",
       "        vertical-align: top;\n",
       "    }\n",
       "\n",
       "    .dataframe thead th {\n",
       "        text-align: right;\n",
       "    }\n",
       "</style>\n",
       "<table border=\"1\" class=\"dataframe\">\n",
       "  <thead>\n",
       "    <tr style=\"text-align: right;\">\n",
       "      <th></th>\n",
       "      <th>age</th>\n",
       "      <th>annual_income</th>\n",
       "      <th>spending_score</th>\n",
       "      <th>is_male</th>\n",
       "      <th>cluster1</th>\n",
       "      <th>cluster2</th>\n",
       "    </tr>\n",
       "    <tr>\n",
       "      <th>customer_id</th>\n",
       "      <th></th>\n",
       "      <th></th>\n",
       "      <th></th>\n",
       "      <th></th>\n",
       "      <th></th>\n",
       "      <th></th>\n",
       "    </tr>\n",
       "  </thead>\n",
       "  <tbody>\n",
       "    <tr>\n",
       "      <th>182</th>\n",
       "      <td>32</td>\n",
       "      <td>97</td>\n",
       "      <td>86</td>\n",
       "      <td>0</td>\n",
       "      <td>3</td>\n",
       "      <td>3</td>\n",
       "    </tr>\n",
       "    <tr>\n",
       "      <th>49</th>\n",
       "      <td>29</td>\n",
       "      <td>40</td>\n",
       "      <td>42</td>\n",
       "      <td>0</td>\n",
       "      <td>1</td>\n",
       "      <td>1</td>\n",
       "    </tr>\n",
       "    <tr>\n",
       "      <th>35</th>\n",
       "      <td>49</td>\n",
       "      <td>33</td>\n",
       "      <td>14</td>\n",
       "      <td>0</td>\n",
       "      <td>4</td>\n",
       "      <td>1</td>\n",
       "    </tr>\n",
       "    <tr>\n",
       "      <th>186</th>\n",
       "      <td>30</td>\n",
       "      <td>99</td>\n",
       "      <td>97</td>\n",
       "      <td>1</td>\n",
       "      <td>3</td>\n",
       "      <td>3</td>\n",
       "    </tr>\n",
       "    <tr>\n",
       "      <th>114</th>\n",
       "      <td>19</td>\n",
       "      <td>64</td>\n",
       "      <td>46</td>\n",
       "      <td>1</td>\n",
       "      <td>2</td>\n",
       "      <td>0</td>\n",
       "    </tr>\n",
       "  </tbody>\n",
       "</table>\n",
       "</div>"
      ],
      "text/plain": [
       "             age  annual_income  spending_score  is_male  cluster1  cluster2\n",
       "customer_id                                                                 \n",
       "182           32             97              86        0         3         3\n",
       "49            29             40              42        0         1         1\n",
       "35            49             33              14        0         4         1\n",
       "186           30             99              97        1         3         3\n",
       "114           19             64              46        1         2         0"
      ]
     },
     "execution_count": 26,
     "metadata": {},
     "output_type": "execute_result"
    }
   ],
   "source": [
    "train['cluster2'] = clusters\n",
    "train.head()"
   ]
  },
  {
   "cell_type": "markdown",
   "id": "3f85dce8",
   "metadata": {},
   "source": [
    "**Visualize clusters**"
   ]
  },
  {
   "cell_type": "code",
   "execution_count": 28,
   "id": "bb5b7500",
   "metadata": {},
   "outputs": [
    {
     "data": {
      "image/png": "[encoded data removed]",
      "text/plain": [
       "<Figure size 360x360 with 1 Axes>"
      ]
     },
     "metadata": {
      "needs_background": "light"
     },
     "output_type": "display_data"
    }
   ],
   "source": [
    "plt.figure(figsize=(5, 5))\n",
    "\n",
    "for cluster_n in train.cluster2.sort_values().unique():\n",
    "    plt.scatter(train[train.cluster2 == cluster_n].age, train[train.cluster2 == cluster_n].annual_income, label=f'cluster_{cluster_n}')\n",
    "\n",
    "plt.legend()\n",
    "plt.title(\"K-Means Clusters\")\n",
    "plt.show()"
   ]
  },
  {
   "cell_type": "markdown",
   "id": "801ba9b4",
   "metadata": {},
   "source": [
    "## 3. How does scaling impact the results of clustering?\n",
    "Compare k-means clustering results on scaled and unscaled data (you can choose any dataset for this exercise OR use the data/steps outlined in the bonus below). You can show how the resulting clusters differ either with descriptive statistics or visually.\n",
    "\n"
   ]
  },
  {
   "cell_type": "code",
   "execution_count": 31,
   "id": "d956055b",
   "metadata": {},
   "outputs": [],
   "source": [
    "train2 = train.drop(columns=['cluster1', 'cluster2']).copy()"
   ]
  },
  {
   "cell_type": "code",
   "execution_count": 32,
   "id": "ce75d02e",
   "metadata": {},
   "outputs": [
    {
     "data": {
      "text/html": [
       "<div>\n",
       "<style scoped>\n",
       "    .dataframe tbody tr th:only-of-type {\n",
       "        vertical-align: middle;\n",
       "    }\n",
       "\n",
       "    .dataframe tbody tr th {\n",
       "        vertical-align: top;\n",
       "    }\n",
       "\n",
       "    .dataframe thead th {\n",
       "        text-align: right;\n",
       "    }\n",
       "</style>\n",
       "<table border=\"1\" class=\"dataframe\">\n",
       "  <thead>\n",
       "    <tr style=\"text-align: right;\">\n",
       "      <th></th>\n",
       "      <th>age</th>\n",
       "      <th>annual_income</th>\n",
       "      <th>spending_score</th>\n",
       "      <th>is_male</th>\n",
       "    </tr>\n",
       "    <tr>\n",
       "      <th>customer_id</th>\n",
       "      <th></th>\n",
       "      <th></th>\n",
       "      <th></th>\n",
       "      <th></th>\n",
       "    </tr>\n",
       "  </thead>\n",
       "  <tbody>\n",
       "    <tr>\n",
       "      <th>182</th>\n",
       "      <td>32</td>\n",
       "      <td>97</td>\n",
       "      <td>86</td>\n",
       "      <td>0</td>\n",
       "    </tr>\n",
       "    <tr>\n",
       "      <th>49</th>\n",
       "      <td>29</td>\n",
       "      <td>40</td>\n",
       "      <td>42</td>\n",
       "      <td>0</td>\n",
       "    </tr>\n",
       "    <tr>\n",
       "      <th>35</th>\n",
       "      <td>49</td>\n",
       "      <td>33</td>\n",
       "      <td>14</td>\n",
       "      <td>0</td>\n",
       "    </tr>\n",
       "    <tr>\n",
       "      <th>186</th>\n",
       "      <td>30</td>\n",
       "      <td>99</td>\n",
       "      <td>97</td>\n",
       "      <td>1</td>\n",
       "    </tr>\n",
       "    <tr>\n",
       "      <th>114</th>\n",
       "      <td>19</td>\n",
       "      <td>64</td>\n",
       "      <td>46</td>\n",
       "      <td>1</td>\n",
       "    </tr>\n",
       "  </tbody>\n",
       "</table>\n",
       "</div>"
      ],
      "text/plain": [
       "             age  annual_income  spending_score  is_male\n",
       "customer_id                                             \n",
       "182           32             97              86        0\n",
       "49            29             40              42        0\n",
       "35            49             33              14        0\n",
       "186           30             99              97        1\n",
       "114           19             64              46        1"
      ]
     },
     "execution_count": 32,
     "metadata": {},
     "output_type": "execute_result"
    }
   ],
   "source": [
    "train2.head()"
   ]
  },
  {
   "cell_type": "code",
   "execution_count": 33,
   "id": "24904f43",
   "metadata": {},
   "outputs": [
    {
     "data": {
      "text/plain": [
       "array([[0.26923077, 0.73873874, 0.86734694, 0.        ],\n",
       "       [0.21153846, 0.22522523, 0.41836735, 0.        ],\n",
       "       [0.59615385, 0.16216216, 0.13265306, 0.        ],\n",
       "       [0.23076923, 0.75675676, 0.97959184, 1.        ],\n",
       "       [0.01923077, 0.44144144, 0.45918367, 1.        ],\n",
       "       [0.51923077, 0.35135135, 0.53061224, 0.        ],\n",
       "       [0.34615385, 0.79279279, 0.85714286, 0.        ],\n",
       "       [0.78846154, 0.7027027 , 0.13265306, 1.        ],\n",
       "       [0.11538462, 0.21621622, 0.65306122, 0.        ],\n",
       "       [0.03846154, 0.1981982 , 0.75510204, 0.        ],\n",
       "       [0.32692308, 0.03603604, 1.        , 0.        ],\n",
       "       [0.19230769, 0.64864865, 0.75510204, 1.        ],\n",
       "       [0.11538462, 0.40540541, 0.52040816, 1.        ],\n",
       "       [0.53846154, 0.09009009, 0.04081633, 0.        ],\n",
       "       [0.46153846, 0.63963964, 0.19387755, 1.        ],\n",
       "       [0.03846154, 0.05405405, 0.66326531, 1.        ],\n",
       "       [0.13461538, 0.55855856, 0.1122449 , 1.        ],\n",
       "       [0.03846154, 0.52252252, 0.04081633, 1.        ],\n",
       "       [0.51923077, 1.        , 0.2755102 , 0.        ],\n",
       "       [0.09615385, 0.00900901, 0.7755102 , 0.        ],\n",
       "       [0.03846154, 0.00900901, 0.05102041, 0.        ],\n",
       "       [0.98076923, 0.26126126, 0.45918367, 1.        ],\n",
       "       [0.36538462, 0.73873874, 0.31632653, 0.        ],\n",
       "       [0.80769231, 0.13513514, 0.03061224, 1.        ],\n",
       "       [0.17307692, 0.40540541, 0.5       , 0.        ],\n",
       "       [0.57692308, 0.21621622, 0.35714286, 1.        ],\n",
       "       [0.21153846, 0.11711712, 0.82653061, 1.        ],\n",
       "       [0.26923077, 0.2972973 , 0.46938776, 0.        ],\n",
       "       [0.65384615, 0.07207207, 0.28571429, 1.        ],\n",
       "       [0.80769231, 0.31531532, 0.56122449, 0.        ],\n",
       "       [0.5       , 0.56756757, 0.19387755, 0.        ],\n",
       "       [0.25      , 0.25225225, 0.54081633, 0.        ],\n",
       "       [0.07692308, 0.37837838, 0.55102041, 0.        ],\n",
       "       [0.40384615, 0.5045045 , 0.75510204, 1.        ],\n",
       "       [0.71153846, 0.37837838, 0.58163265, 0.        ],\n",
       "       [0.01923077, 0.43243243, 0.54081633, 0.        ],\n",
       "       [0.67307692, 0.27927928, 0.45918367, 1.        ],\n",
       "       [0.30769231, 0.79279279, 0.2244898 , 0.        ],\n",
       "       [0.42307692, 0.48648649, 0.58163265, 0.        ],\n",
       "       [0.05769231, 0.        , 0.81632653, 1.        ],\n",
       "       [1.        , 0.30630631, 0.55102041, 1.        ],\n",
       "       [0.19230769, 0.54954955, 0.39795918, 0.        ],\n",
       "       [0.61538462, 0.63063063, 0.25510204, 1.        ],\n",
       "       [0.78846154, 0.35135135, 0.46938776, 1.        ],\n",
       "       [0.05769231, 0.35135135, 0.57142857, 0.        ],\n",
       "       [0.61538462, 0.22522523, 0.55102041, 0.        ],\n",
       "       [0.69230769, 0.43243243, 0.45918367, 1.        ],\n",
       "       [0.44230769, 0.79279279, 0.16326531, 0.        ],\n",
       "       [0.01923077, 0.53153153, 0.09183673, 1.        ],\n",
       "       [0.01923077, 0.        , 0.3877551 , 1.        ],\n",
       "       [0.        , 0.16216216, 0.92857143, 1.        ],\n",
       "       [0.19230769, 0.77477477, 0.68367347, 1.        ],\n",
       "       [0.28846154, 0.63963964, 0.95918367, 0.        ],\n",
       "       [0.15384615, 0.35135135, 0.54081633, 1.        ],\n",
       "       [0.48076923, 0.56756757, 0.16326531, 1.        ],\n",
       "       [0.44230769, 0.75675676, 0.3877551 , 0.        ],\n",
       "       [0.96153846, 0.2972973 , 0.47959184, 0.        ],\n",
       "       [0.46153846, 0.17117117, 0.16326531, 0.        ],\n",
       "       [0.30769231, 0.56756757, 0.        , 1.        ],\n",
       "       [0.05769231, 0.42342342, 0.41836735, 0.        ],\n",
       "       [0.86538462, 0.45045045, 0.42857143, 0.        ],\n",
       "       [0.63461538, 0.46846847, 0.42857143, 0.        ],\n",
       "       [0.40384615, 0.56756757, 0.8877551 , 1.        ],\n",
       "       [0.36538462, 0.04504505, 0.12244898, 1.        ],\n",
       "       [0.26923077, 0.54954955, 0.87755102, 0.        ],\n",
       "       [0.61538462, 0.38738739, 0.45918367, 0.        ],\n",
       "       [0.57692308, 0.35135135, 0.45918367, 1.        ],\n",
       "       [0.25      , 0.59459459, 0.93877551, 0.        ],\n",
       "       [0.38461538, 0.88288288, 0.91836735, 0.        ],\n",
       "       [0.94230769, 0.42342342, 0.59183673, 1.        ],\n",
       "       [0.42307692, 0.5045045 , 0.95918367, 1.        ],\n",
       "       [0.32692308, 0.7027027 , 0.90816327, 1.        ],\n",
       "       [0.32692308, 0.02702703, 0.05102041, 0.        ],\n",
       "       [0.92307692, 0.43243243, 0.5       , 0.        ],\n",
       "       [0.30769231, 0.38738739, 0.60204082, 0.        ],\n",
       "       [0.55769231, 0.5045045 , 0.08163265, 1.        ],\n",
       "       [0.32692308, 0.53153153, 0.7244898 , 0.        ],\n",
       "       [0.40384615, 0.48648649, 0.91836735, 1.        ],\n",
       "       [0.17307692, 0.46846847, 0.56122449, 1.        ],\n",
       "       [0.69230769, 0.28828829, 0.59183673, 0.        ],\n",
       "       [0.63461538, 0.26126126, 0.5       , 0.        ],\n",
       "       [0.26923077, 0.40540541, 0.41836735, 0.        ],\n",
       "       [0.26923077, 0.54054054, 0.93877551, 1.        ],\n",
       "       [0.25      , 0.21621622, 0.6122449 , 0.        ],\n",
       "       [0.01923077, 0.45045045, 0.5       , 0.        ],\n",
       "       [0.07692308, 0.01801802, 0.76530612, 0.        ],\n",
       "       [0.76923077, 0.04504505, 0.14285714, 0.        ],\n",
       "       [0.03846154, 0.41441441, 0.48979592, 1.        ],\n",
       "       [0.15384615, 0.42342342, 0.55102041, 1.        ],\n",
       "       [0.07692308, 0.04504505, 0.79591837, 1.        ],\n",
       "       [0.17307692, 0.22522523, 0.46938776, 0.        ],\n",
       "       [0.25      , 0.22522523, 0.41836735, 0.        ],\n",
       "       [0.48076923, 0.2972973 , 0.5       , 0.        ],\n",
       "       [0.23076923, 0.65765766, 0.86734694, 0.        ],\n",
       "       [0.        , 0.3963964 , 0.40816327, 1.        ],\n",
       "       [0.25      , 0.09009009, 0.73469388, 1.        ],\n",
       "       [0.        , 0.2972973 , 0.59183673, 1.        ],\n",
       "       [0.19230769, 0.55855856, 0.97959184, 1.        ],\n",
       "       [0.23076923, 0.03603604, 0.7244898 , 0.        ],\n",
       "       [0.55769231, 0.40540541, 0.46938776, 0.        ],\n",
       "       [0.13461538, 0.08108108, 0.73469388, 1.        ],\n",
       "       [0.53846154, 0.35135135, 0.43877551, 0.        ],\n",
       "       [0.86538462, 0.2972973 , 0.51020408, 1.        ],\n",
       "       [0.30769231, 0.56756757, 0.21428571, 0.        ],\n",
       "       [0.38461538, 0.46846847, 0.39795918, 0.        ],\n",
       "       [0.90384615, 0.20720721, 0.34693878, 0.        ],\n",
       "       [0.48076923, 0.5045045 , 0.34693878, 1.        ],\n",
       "       [0.26923077, 0.79279279, 0.69387755, 0.        ],\n",
       "       [0.59615385, 0.42342342, 0.47959184, 0.        ],\n",
       "       [0.01923077, 0.27927928, 0.55102041, 1.        ],\n",
       "       [0.09615385, 0.4954955 , 0.28571429, 0.        ],\n",
       "       [0.57692308, 0.55855856, 0.35714286, 1.        ],\n",
       "       [0.25      , 0.51351351, 0.71428571, 0.        ],\n",
       "       [0.75      , 0.35135135, 0.51020408, 1.        ],\n",
       "       [0.38461538, 0.5045045 , 0.75510204, 1.        ],\n",
       "       [0.75      , 0.54054054, 0.04081633, 0.        ],\n",
       "       [0.21153846, 0.52252252, 0.8877551 , 0.        ],\n",
       "       [0.17307692, 0.27927928, 0.51020408, 0.        ]])"
      ]
     },
     "execution_count": 33,
     "metadata": {},
     "output_type": "execute_result"
    }
   ],
   "source": [
    "scaler = MinMaxScaler()\n",
    "\n",
    "scaler.fit(train2)\n",
    "\n",
    "train_scaled = scaler.transform(train2)\n",
    "validate_scaled = scaler.transform(validate)\n",
    "test_scaled = scaler.transform(test)\n",
    "\n",
    "train_scaled"
   ]
  },
  {
   "cell_type": "code",
   "execution_count": 34,
   "id": "e0f4b24a",
   "metadata": {},
   "outputs": [],
   "source": [
    "train_scaled = pd.DataFrame(train_scaled, columns=train2.columns.values).set_index([train2.index.values])\n",
    "validate_scaled = pd.DataFrame(validate_scaled, columns=validate.columns.values).set_index([validate.index.values])\n",
    "test_scaled = pd.DataFrame(test_scaled, columns=test.columns.values).set_index([test.index.values])"
   ]
  },
  {
   "cell_type": "code",
   "execution_count": 35,
   "id": "93b0c1fb",
   "metadata": {},
   "outputs": [
    {
     "data": {
      "text/html": [
       "<div>\n",
       "<style scoped>\n",
       "    .dataframe tbody tr th:only-of-type {\n",
       "        vertical-align: middle;\n",
       "    }\n",
       "\n",
       "    .dataframe tbody tr th {\n",
       "        vertical-align: top;\n",
       "    }\n",
       "\n",
       "    .dataframe thead th {\n",
       "        text-align: right;\n",
       "    }\n",
       "</style>\n",
       "<table border=\"1\" class=\"dataframe\">\n",
       "  <thead>\n",
       "    <tr style=\"text-align: right;\">\n",
       "      <th></th>\n",
       "      <th>age</th>\n",
       "      <th>annual_income</th>\n",
       "      <th>spending_score</th>\n",
       "      <th>is_male</th>\n",
       "    </tr>\n",
       "  </thead>\n",
       "  <tbody>\n",
       "    <tr>\n",
       "      <th>182</th>\n",
       "      <td>0.269231</td>\n",
       "      <td>0.738739</td>\n",
       "      <td>0.867347</td>\n",
       "      <td>0.0</td>\n",
       "    </tr>\n",
       "    <tr>\n",
       "      <th>49</th>\n",
       "      <td>0.211538</td>\n",
       "      <td>0.225225</td>\n",
       "      <td>0.418367</td>\n",
       "      <td>0.0</td>\n",
       "    </tr>\n",
       "    <tr>\n",
       "      <th>35</th>\n",
       "      <td>0.596154</td>\n",
       "      <td>0.162162</td>\n",
       "      <td>0.132653</td>\n",
       "      <td>0.0</td>\n",
       "    </tr>\n",
       "    <tr>\n",
       "      <th>186</th>\n",
       "      <td>0.230769</td>\n",
       "      <td>0.756757</td>\n",
       "      <td>0.979592</td>\n",
       "      <td>1.0</td>\n",
       "    </tr>\n",
       "    <tr>\n",
       "      <th>114</th>\n",
       "      <td>0.019231</td>\n",
       "      <td>0.441441</td>\n",
       "      <td>0.459184</td>\n",
       "      <td>1.0</td>\n",
       "    </tr>\n",
       "  </tbody>\n",
       "</table>\n",
       "</div>"
      ],
      "text/plain": [
       "          age  annual_income  spending_score  is_male\n",
       "182  0.269231       0.738739        0.867347      0.0\n",
       "49   0.211538       0.225225        0.418367      0.0\n",
       "35   0.596154       0.162162        0.132653      0.0\n",
       "186  0.230769       0.756757        0.979592      1.0\n",
       "114  0.019231       0.441441        0.459184      1.0"
      ]
     },
     "execution_count": 35,
     "metadata": {},
     "output_type": "execute_result"
    }
   ],
   "source": [
    "train_scaled.head()"
   ]
  },
  {
   "cell_type": "code",
   "execution_count": 36,
   "id": "2b1f68a7",
   "metadata": {},
   "outputs": [
    {
     "data": {
      "text/plain": [
       "<seaborn.axisgrid.PairGrid at 0x7fb6e2bc6ee0>"
      ]
     },
     "execution_count": 36,
     "metadata": {},
     "output_type": "execute_result"
    },
    {
     "data": {
      "image/png": "[encoded data removed]",
      "text/plain": [
       "<Figure size 720x720 with 20 Axes>"
      ]
     },
     "metadata": {
      "needs_background": "light"
     },
     "output_type": "display_data"
    }
   ],
   "source": [
    "sns.pairplot(train_scaled)"
   ]
  },
  {
   "cell_type": "markdown",
   "id": "57262b38",
   "metadata": {},
   "source": [
    "**Select featues** (same as what were used last time)"
   ]
  },
  {
   "cell_type": "code",
   "execution_count": 37,
   "id": "7a7169c8",
   "metadata": {},
   "outputs": [
    {
     "data": {
      "text/html": [
       "<div>\n",
       "<style scoped>\n",
       "    .dataframe tbody tr th:only-of-type {\n",
       "        vertical-align: middle;\n",
       "    }\n",
       "\n",
       "    .dataframe tbody tr th {\n",
       "        vertical-align: top;\n",
       "    }\n",
       "\n",
       "    .dataframe thead th {\n",
       "        text-align: right;\n",
       "    }\n",
       "</style>\n",
       "<table border=\"1\" class=\"dataframe\">\n",
       "  <thead>\n",
       "    <tr style=\"text-align: right;\">\n",
       "      <th></th>\n",
       "      <th>age</th>\n",
       "      <th>annual_income</th>\n",
       "    </tr>\n",
       "  </thead>\n",
       "  <tbody>\n",
       "    <tr>\n",
       "      <th>182</th>\n",
       "      <td>0.269231</td>\n",
       "      <td>0.738739</td>\n",
       "    </tr>\n",
       "    <tr>\n",
       "      <th>49</th>\n",
       "      <td>0.211538</td>\n",
       "      <td>0.225225</td>\n",
       "    </tr>\n",
       "    <tr>\n",
       "      <th>35</th>\n",
       "      <td>0.596154</td>\n",
       "      <td>0.162162</td>\n",
       "    </tr>\n",
       "    <tr>\n",
       "      <th>186</th>\n",
       "      <td>0.230769</td>\n",
       "      <td>0.756757</td>\n",
       "    </tr>\n",
       "    <tr>\n",
       "      <th>114</th>\n",
       "      <td>0.019231</td>\n",
       "      <td>0.441441</td>\n",
       "    </tr>\n",
       "  </tbody>\n",
       "</table>\n",
       "</div>"
      ],
      "text/plain": [
       "          age  annual_income\n",
       "182  0.269231       0.738739\n",
       "49   0.211538       0.225225\n",
       "35   0.596154       0.162162\n",
       "186  0.230769       0.756757\n",
       "114  0.019231       0.441441"
      ]
     },
     "execution_count": 37,
     "metadata": {},
     "output_type": "execute_result"
    }
   ],
   "source": [
    "X = train_scaled[['age', 'annual_income']]\n",
    "X.head()"
   ]
  },
  {
   "cell_type": "markdown",
   "id": "8bb91157",
   "metadata": {},
   "source": [
    "**Create model and fit model**"
   ]
  },
  {
   "cell_type": "code",
   "execution_count": 38,
   "id": "5a9915ba",
   "metadata": {},
   "outputs": [
    {
     "data": {
      "text/plain": [
       "array([0, 2, 1, 0, 3, 1, 0, 1, 2, 2, 2, 0, 3, 1, 0, 2, 3, 3, 0, 2, 2, 1,\n",
       "       0, 1, 3, 1, 2, 3, 1, 1, 0, 2, 3, 0, 1, 3, 1, 0, 0, 2, 1, 3, 0, 1,\n",
       "       3, 1, 1, 0, 3, 2, 2, 0, 0, 3, 0, 0, 1, 1, 0, 3, 1, 1, 0, 2, 0, 1,\n",
       "       1, 0, 0, 1, 0, 0, 2, 1, 3, 0, 0, 0, 3, 1, 1, 3, 0, 2, 3, 2, 1, 3,\n",
       "       3, 2, 2, 2, 1, 0, 3, 2, 3, 3, 2, 1, 2, 1, 1, 0, 0, 1, 0, 0, 1, 3,\n",
       "       3, 0, 3, 1, 0, 1, 3, 3], dtype=int32)"
      ]
     },
     "execution_count": 38,
     "metadata": {},
     "output_type": "execute_result"
    }
   ],
   "source": [
    "kmeans = KMeans(n_clusters=4)\n",
    "kmeans.fit(X)\n",
    "\n",
    "clusters = kmeans.predict(X)\n",
    "clusters"
   ]
  },
  {
   "cell_type": "markdown",
   "id": "cd367657",
   "metadata": {},
   "source": [
    "**Adding cluster to original dataframe**"
   ]
  },
  {
   "cell_type": "code",
   "execution_count": 39,
   "id": "b2c51b94",
   "metadata": {},
   "outputs": [
    {
     "data": {
      "text/html": [
       "<div>\n",
       "<style scoped>\n",
       "    .dataframe tbody tr th:only-of-type {\n",
       "        vertical-align: middle;\n",
       "    }\n",
       "\n",
       "    .dataframe tbody tr th {\n",
       "        vertical-align: top;\n",
       "    }\n",
       "\n",
       "    .dataframe thead th {\n",
       "        text-align: right;\n",
       "    }\n",
       "</style>\n",
       "<table border=\"1\" class=\"dataframe\">\n",
       "  <thead>\n",
       "    <tr style=\"text-align: right;\">\n",
       "      <th></th>\n",
       "      <th>age</th>\n",
       "      <th>annual_income</th>\n",
       "      <th>spending_score</th>\n",
       "      <th>is_male</th>\n",
       "      <th>cluster</th>\n",
       "    </tr>\n",
       "  </thead>\n",
       "  <tbody>\n",
       "    <tr>\n",
       "      <th>182</th>\n",
       "      <td>0.269231</td>\n",
       "      <td>0.738739</td>\n",
       "      <td>0.867347</td>\n",
       "      <td>0.0</td>\n",
       "      <td>0</td>\n",
       "    </tr>\n",
       "    <tr>\n",
       "      <th>49</th>\n",
       "      <td>0.211538</td>\n",
       "      <td>0.225225</td>\n",
       "      <td>0.418367</td>\n",
       "      <td>0.0</td>\n",
       "      <td>2</td>\n",
       "    </tr>\n",
       "    <tr>\n",
       "      <th>35</th>\n",
       "      <td>0.596154</td>\n",
       "      <td>0.162162</td>\n",
       "      <td>0.132653</td>\n",
       "      <td>0.0</td>\n",
       "      <td>1</td>\n",
       "    </tr>\n",
       "    <tr>\n",
       "      <th>186</th>\n",
       "      <td>0.230769</td>\n",
       "      <td>0.756757</td>\n",
       "      <td>0.979592</td>\n",
       "      <td>1.0</td>\n",
       "      <td>0</td>\n",
       "    </tr>\n",
       "    <tr>\n",
       "      <th>114</th>\n",
       "      <td>0.019231</td>\n",
       "      <td>0.441441</td>\n",
       "      <td>0.459184</td>\n",
       "      <td>1.0</td>\n",
       "      <td>3</td>\n",
       "    </tr>\n",
       "  </tbody>\n",
       "</table>\n",
       "</div>"
      ],
      "text/plain": [
       "          age  annual_income  spending_score  is_male  cluster\n",
       "182  0.269231       0.738739        0.867347      0.0        0\n",
       "49   0.211538       0.225225        0.418367      0.0        2\n",
       "35   0.596154       0.162162        0.132653      0.0        1\n",
       "186  0.230769       0.756757        0.979592      1.0        0\n",
       "114  0.019231       0.441441        0.459184      1.0        3"
      ]
     },
     "execution_count": 39,
     "metadata": {},
     "output_type": "execute_result"
    }
   ],
   "source": [
    "train_scaled['cluster'] = clusters\n",
    "train_scaled.head()"
   ]
  },
  {
   "cell_type": "markdown",
   "id": "0930214e",
   "metadata": {},
   "source": [
    "**Visualize clusters**"
   ]
  },
  {
   "cell_type": "code",
   "execution_count": 40,
   "id": "d37e8ab1",
   "metadata": {},
   "outputs": [
    {
     "data": {
      "image/png": "[encoded data removed]",
      "text/plain": [
       "<Figure size 360x360 with 1 Axes>"
      ]
     },
     "metadata": {
      "needs_background": "light"
     },
     "output_type": "display_data"
    }
   ],
   "source": [
    "plt.figure(figsize=(5, 5))\n",
    "\n",
    "for cluster_n in train_scaled.cluster.sort_values().unique():\n",
    "    plt.scatter(train_scaled[train_scaled.cluster == cluster_n].spending_score, \n",
    "                train_scaled[train_scaled.cluster == cluster_n].annual_income, \n",
    "                label=f'cluster_{cluster_n}'\n",
    "               )\n",
    "\n",
    "plt.legend()\n",
    "plt.title(\"K-Means Clusters\")\n",
    "plt.show()"
   ]
  },
  {
   "cell_type": "markdown",
   "id": "b72faf38",
   "metadata": {},
   "source": [
    "**Selecting k**"
   ]
  },
  {
   "cell_type": "code",
   "execution_count": 41,
   "id": "15b953f7",
   "metadata": {},
   "outputs": [
    {
     "data": {
      "image/png": "[encoded data removed]",
      "text/plain": [
       "<Figure size 648x432 with 1 Axes>"
      ]
     },
     "metadata": {},
     "output_type": "display_data"
    }
   ],
   "source": [
    "with plt.style.context('seaborn-whitegrid'):\n",
    "    plt.figure(figsize=(9, 6))\n",
    "    pd.Series({k: KMeans(k).fit(X).inertia_ for k in range(2, 12)}).plot(marker='x')\n",
    "    plt.xticks(range(2, 12))\n",
    "    plt.xlabel('k')\n",
    "    plt.ylabel('inertia')\n",
    "    plt.title('Change in inertia as k increases')"
   ]
  },
  {
   "cell_type": "markdown",
   "id": "5446512b",
   "metadata": {},
   "source": [
    "This graph seems to show a drop off in inertia around **k==4**\n",
    "\n",
    "**k==3** is the ideal cluster number"
   ]
  },
  {
   "cell_type": "markdown",
   "id": "1f88d048",
   "metadata": {},
   "source": [
    "**Creating cluster model with k==3**\n"
   ]
  },
  {
   "cell_type": "code",
   "execution_count": 42,
   "id": "8909f268",
   "metadata": {},
   "outputs": [
    {
     "data": {
      "text/plain": [
       "array([0, 2, 1, 0, 2, 1, 0, 1, 2, 2, 2, 0, 2, 1, 0, 2, 0, 2, 0, 2, 2, 1,\n",
       "       0, 1, 2, 1, 2, 2, 1, 1, 0, 2, 2, 0, 1, 2, 1, 0, 0, 2, 1, 0, 0, 1,\n",
       "       2, 1, 1, 0, 2, 2, 2, 0, 0, 2, 0, 0, 1, 1, 0, 2, 1, 1, 0, 2, 0, 1,\n",
       "       1, 0, 0, 1, 0, 0, 2, 1, 2, 0, 0, 0, 2, 1, 1, 2, 0, 2, 2, 2, 1, 2,\n",
       "       2, 2, 2, 2, 1, 0, 2, 2, 2, 0, 2, 1, 2, 1, 1, 0, 0, 1, 0, 0, 1, 2,\n",
       "       2, 0, 0, 1, 0, 1, 0, 2], dtype=int32)"
      ]
     },
     "execution_count": 42,
     "metadata": {},
     "output_type": "execute_result"
    }
   ],
   "source": [
    "kmeans = KMeans(n_clusters=3)\n",
    "kmeans.fit(X)\n",
    "\n",
    "clusters = kmeans.predict(X)\n",
    "clusters"
   ]
  },
  {
   "cell_type": "markdown",
   "id": "14cc0dc1",
   "metadata": {},
   "source": [
    "**Add cluster2 to original dataframe**"
   ]
  },
  {
   "cell_type": "code",
   "execution_count": 43,
   "id": "454f35f6",
   "metadata": {},
   "outputs": [
    {
     "data": {
      "text/html": [
       "<div>\n",
       "<style scoped>\n",
       "    .dataframe tbody tr th:only-of-type {\n",
       "        vertical-align: middle;\n",
       "    }\n",
       "\n",
       "    .dataframe tbody tr th {\n",
       "        vertical-align: top;\n",
       "    }\n",
       "\n",
       "    .dataframe thead th {\n",
       "        text-align: right;\n",
       "    }\n",
       "</style>\n",
       "<table border=\"1\" class=\"dataframe\">\n",
       "  <thead>\n",
       "    <tr style=\"text-align: right;\">\n",
       "      <th></th>\n",
       "      <th>age</th>\n",
       "      <th>annual_income</th>\n",
       "      <th>spending_score</th>\n",
       "      <th>is_male</th>\n",
       "      <th>cluster</th>\n",
       "      <th>cluster2</th>\n",
       "    </tr>\n",
       "  </thead>\n",
       "  <tbody>\n",
       "    <tr>\n",
       "      <th>182</th>\n",
       "      <td>0.269231</td>\n",
       "      <td>0.738739</td>\n",
       "      <td>0.867347</td>\n",
       "      <td>0.0</td>\n",
       "      <td>0</td>\n",
       "      <td>0</td>\n",
       "    </tr>\n",
       "    <tr>\n",
       "      <th>49</th>\n",
       "      <td>0.211538</td>\n",
       "      <td>0.225225</td>\n",
       "      <td>0.418367</td>\n",
       "      <td>0.0</td>\n",
       "      <td>2</td>\n",
       "      <td>2</td>\n",
       "    </tr>\n",
       "    <tr>\n",
       "      <th>35</th>\n",
       "      <td>0.596154</td>\n",
       "      <td>0.162162</td>\n",
       "      <td>0.132653</td>\n",
       "      <td>0.0</td>\n",
       "      <td>1</td>\n",
       "      <td>1</td>\n",
       "    </tr>\n",
       "    <tr>\n",
       "      <th>186</th>\n",
       "      <td>0.230769</td>\n",
       "      <td>0.756757</td>\n",
       "      <td>0.979592</td>\n",
       "      <td>1.0</td>\n",
       "      <td>0</td>\n",
       "      <td>0</td>\n",
       "    </tr>\n",
       "    <tr>\n",
       "      <th>114</th>\n",
       "      <td>0.019231</td>\n",
       "      <td>0.441441</td>\n",
       "      <td>0.459184</td>\n",
       "      <td>1.0</td>\n",
       "      <td>3</td>\n",
       "      <td>2</td>\n",
       "    </tr>\n",
       "  </tbody>\n",
       "</table>\n",
       "</div>"
      ],
      "text/plain": [
       "          age  annual_income  spending_score  is_male  cluster  cluster2\n",
       "182  0.269231       0.738739        0.867347      0.0        0         0\n",
       "49   0.211538       0.225225        0.418367      0.0        2         2\n",
       "35   0.596154       0.162162        0.132653      0.0        1         1\n",
       "186  0.230769       0.756757        0.979592      1.0        0         0\n",
       "114  0.019231       0.441441        0.459184      1.0        3         2"
      ]
     },
     "execution_count": 43,
     "metadata": {},
     "output_type": "execute_result"
    }
   ],
   "source": [
    "train_scaled['cluster2'] = clusters\n",
    "train_scaled.head()"
   ]
  },
  {
   "cell_type": "markdown",
   "id": "dae82bae",
   "metadata": {},
   "source": [
    "**Visualize clusters**"
   ]
  },
  {
   "cell_type": "code",
   "execution_count": 45,
   "id": "9c71ce4d",
   "metadata": {},
   "outputs": [
    {
     "data": {
      "image/png": "[encoded data removed]",
      "text/plain": [
       "<Figure size 360x360 with 1 Axes>"
      ]
     },
     "metadata": {
      "needs_background": "light"
     },
     "output_type": "display_data"
    }
   ],
   "source": [
    "plt.figure(figsize=(5, 5))\n",
    "\n",
    "for cluster_n in train_scaled.cluster2.sort_values().unique():\n",
    "    plt.scatter(train_scaled[train_scaled.cluster2 == cluster_n].spending_score, \n",
    "                train_scaled[train_scaled.cluster2 == cluster_n].annual_income, \n",
    "                label=f'cluster_{cluster_n}'\n",
    "               )\n",
    "\n",
    "plt.legend()\n",
    "plt.title(\"K-Means Clusters\")\n",
    "plt.show()"
   ]
  }
 ],
 "metadata": {
  "kernelspec": {
   "display_name": "Python 3 (ipykernel)",
   "language": "python",
   "name": "python3"
  },
  "language_info": {
   "codemirror_mode": {
    "name": "ipython",
    "version": 3
   },
   "file_extension": ".py",
   "mimetype": "text/x-python",
   "name": "python",
   "nbconvert_exporter": "python",
   "pygments_lexer": "ipython3",
   "version": "3.9.12"
  }
 },
 "nbformat": 4,
 "nbformat_minor": 5
}
